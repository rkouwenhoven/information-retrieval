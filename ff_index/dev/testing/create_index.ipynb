{
 "cells": [
  {
   "cell_type": "code",
   "execution_count": 1,
   "metadata": {},
   "outputs": [
    {
     "name": "stderr",
     "output_type": "stream",
     "text": [
      "/home/leonhardt/.conda/envs/retrieval/lib/python3.9/site-packages/tqdm/auto.py:22: TqdmWarning: IProgress not found. Please update jupyter and ipywidgets. See https://ipywidgets.readthedocs.io/en/stable/user_install.html\n",
      "  from .autonotebook import tqdm as notebook_tqdm\n"
     ]
    }
   ],
   "source": [
    "import csv\n",
    "from pathlib import Path\n",
    "\n",
    "import numpy as np\n",
    "from fast_forward.ranking import Ranking\n",
    "from fast_forward.index import Mode, InMemoryIndex\n",
    "from fast_forward.encoder import TCTColBERTQueryEncoder as TCTColBERTQueryEncoderFF\n",
    "from pyserini.search.faiss import FaissSearcher, TctColBertQueryEncoder\n",
    "from ir_measures import read_trec_qrels, calc_aggregate, nDCG, RR"
   ]
  },
  {
   "cell_type": "code",
   "execution_count": 2,
   "metadata": {},
   "outputs": [
    {
     "name": "stdout",
     "output_type": "stream",
     "text": [
      "indexing 440079 documents or passages\n"
     ]
    }
   ],
   "source": [
    "sparse_ranking_2019 = Ranking.from_file(Path(\"msmarco-passage-test2019-sparse10000.txt\"))\n",
    "sparse_ranking_2019.cut(5000)\n",
    "sparse_ranking_2020 = Ranking.from_file(Path(\"msmarco-passage-test2020-sparse10000.txt\"))\n",
    "sparse_ranking_2020.cut(5000)\n",
    "all_ids = set.union(\n",
    "    *[set(sparse_ranking_2019[q_id].keys()) for q_id in sparse_ranking_2019.q_ids],\n",
    "    *[set(sparse_ranking_2020[q_id].keys()) for q_id in sparse_ranking_2020.q_ids]\n",
    ")\n",
    "print(f\"indexing {len(all_ids)} documents or passages\")"
   ]
  },
  {
   "cell_type": "code",
   "execution_count": 3,
   "metadata": {},
   "outputs": [
    {
     "name": "stderr",
     "output_type": "stream",
     "text": [
      "Some weights of the model checkpoint at castorini/tct_colbert-msmarco were not used when initializing BertModel: ['cls.predictions.transform.LayerNorm.bias', 'cls.predictions.transform.LayerNorm.weight', 'cls.seq_relationship.bias', 'cls.predictions.transform.dense.weight', 'cls.predictions.decoder.weight', 'cls.predictions.decoder.bias', 'cls.seq_relationship.weight', 'cls.predictions.bias', 'cls.predictions.transform.dense.bias']\n",
      "- This IS expected if you are initializing BertModel from the checkpoint of a model trained on another task or with another architecture (e.g. initializing a BertForSequenceClassification model from a BertForPreTraining model).\n",
      "- This IS NOT expected if you are initializing BertModel from the checkpoint of a model that you expect to be exactly identical (initializing a BertForSequenceClassification model from a BertForSequenceClassification model).\n"
     ]
    },
    {
     "name": "stdout",
     "output_type": "stream",
     "text": [
      "Attempting to initialize pre-built index msmarco-passage-tct_colbert-bf.\n",
      "/home/leonhardt/.cache/pyserini/indexes/dindex-msmarco-passage-tct_colbert-bf-20210112-be7119.7312e0e7acec2a686e994902ca064fc5 already exists, skipping download.\n",
      "Initializing msmarco-passage-tct_colbert-bf...\n"
     ]
    }
   ],
   "source": [
    "searcher = FaissSearcher.from_prebuilt_index(\n",
    "    \"msmarco-passage-tct_colbert-bf\",\n",
    "    TctColBertQueryEncoder('castorini/tct_colbert-msmarco')\n",
    ")"
   ]
  },
  {
   "cell_type": "code",
   "execution_count": 4,
   "metadata": {},
   "outputs": [],
   "source": [
    "vectors, psg_ids, doc_ids = [], [], []\n",
    "for i, psg_id in enumerate(searcher.docids):\n",
    "    doc_id = psg_id.split(\"#\")[0]\n",
    "    if doc_id in all_ids:\n",
    "        vectors.append(searcher.index.reconstruct(i))\n",
    "        psg_ids.append(psg_id)\n",
    "        doc_ids.append(doc_id)\n",
    "del searcher"
   ]
  },
  {
   "cell_type": "code",
   "execution_count": 5,
   "metadata": {},
   "outputs": [],
   "source": [
    "vectors_np = np.array(vectors)\n",
    "del vectors"
   ]
  },
  {
   "cell_type": "code",
   "execution_count": 6,
   "metadata": {},
   "outputs": [
    {
     "name": "stderr",
     "output_type": "stream",
     "text": [
      "Some weights of the model checkpoint at castorini/tct_colbert-msmarco were not used when initializing BertModel: ['cls.predictions.transform.LayerNorm.bias', 'cls.predictions.transform.LayerNorm.weight', 'cls.seq_relationship.bias', 'cls.predictions.transform.dense.weight', 'cls.predictions.decoder.weight', 'cls.predictions.decoder.bias', 'cls.seq_relationship.weight', 'cls.predictions.bias', 'cls.predictions.transform.dense.bias']\n",
      "- This IS expected if you are initializing BertModel from the checkpoint of a model trained on another task or with another architecture (e.g. initializing a BertForSequenceClassification model from a BertForPreTraining model).\n",
      "- This IS NOT expected if you are initializing BertModel from the checkpoint of a model that you expect to be exactly identical (initializing a BertForSequenceClassification model from a BertForSequenceClassification model).\n"
     ]
    }
   ],
   "source": [
    "index = InMemoryIndex(mode=Mode.PASSAGE, encoder=TCTColBERTQueryEncoderFF(\"castorini/tct_colbert-msmarco\"))\n",
    "index.add(vectors_np, doc_ids=doc_ids, psg_ids=psg_ids)\n",
    "index.save(Path(\"ffindex_passage_2019_2020.pkl\"))"
   ]
  },
  {
   "cell_type": "code",
   "execution_count": 7,
   "metadata": {},
   "outputs": [
    {
     "name": "stdout",
     "output_type": "stream",
     "text": [
      "loaded 200 queries\n"
     ]
    },
    {
     "name": "stderr",
     "output_type": "stream",
     "text": [
      "100%|██████████| 43/43 [00:01<00:00, 35.36it/s]\n"
     ]
    },
    {
     "name": "stdout",
     "output_type": "stream",
     "text": [
      "BM25 {RR(rel=2)@10: 0.7024178663713547, nDCG@10: 0.5058310024399072}\n",
      "BM25, TCTColBERT (alpha=0.2) {RR(rel=2)@10: 0.901937984496124, nDCG@10: 0.7158066715626034}\n"
     ]
    }
   ],
   "source": [
    "with open(\n",
    "    \"msmarco-test2019-queries.tsv\",\n",
    "    encoding=\"utf-8\",\n",
    "    newline=\"\"\n",
    ") as fp:\n",
    "    queries = {q_id: q for q_id, q in csv.reader(fp, delimiter=\"\\t\")}\n",
    "print(f\"loaded {len(queries)} queries\")\n",
    "\n",
    "alpha = 0.2\n",
    "result = index.get_scores(\n",
    "    sparse_ranking_2019,\n",
    "    queries,\n",
    "    alpha=alpha,\n",
    "    cutoff=10,\n",
    "    early_stopping=False\n",
    ")\n",
    "\n",
    "qrels = list(read_trec_qrels(\"2019qrels-pass.txt\"))\n",
    "print(\n",
    "    \"BM25\",\n",
    "    calc_aggregate([nDCG@10, RR(rel=2)@10], qrels, sparse_ranking_2019.run)\n",
    ")\n",
    "print(\n",
    "    f\"BM25, TCTColBERT (alpha={alpha})\",\n",
    "    calc_aggregate([nDCG@10, RR(rel=2)@10], qrels, result[alpha].run)\n",
    ")"
   ]
  },
  {
   "cell_type": "code",
   "execution_count": 8,
   "metadata": {},
   "outputs": [
    {
     "name": "stdout",
     "output_type": "stream",
     "text": [
      "loaded 200 queries\n"
     ]
    },
    {
     "name": "stderr",
     "output_type": "stream",
     "text": [
      "100%|██████████| 54/54 [00:01<00:00, 32.92it/s]\n"
     ]
    },
    {
     "name": "stdout",
     "output_type": "stream",
     "text": [
      "BM25 {RR(rel=2)@10: 0.6554012345679013, nDCG@10: 0.4875508583120806}\n",
      "BM25, TCTColBERT (alpha=0.2) {RR(rel=2)@10: 0.7975308641975309, nDCG@10: 0.6714497182268859}\n"
     ]
    }
   ],
   "source": [
    "with open(\n",
    "    \"msmarco-test2020-queries.tsv\",\n",
    "    encoding=\"utf-8\",\n",
    "    newline=\"\"\n",
    ") as fp:\n",
    "    queries = {q_id: q for q_id, q in csv.reader(fp, delimiter=\"\\t\")}\n",
    "print(f\"loaded {len(queries)} queries\")\n",
    "\n",
    "alpha = 0.2\n",
    "result = index.get_scores(\n",
    "    sparse_ranking_2020,\n",
    "    queries,\n",
    "    alpha=alpha,\n",
    "    cutoff=10,\n",
    "    early_stopping=False\n",
    ")\n",
    "\n",
    "qrels = list(read_trec_qrels(\"2020qrels-pass.txt\"))\n",
    "print(\n",
    "    \"BM25\",\n",
    "    calc_aggregate([nDCG@10, RR(rel=2)@10], qrels, sparse_ranking_2020.run)\n",
    ")\n",
    "print(\n",
    "    f\"BM25, TCTColBERT (alpha={alpha})\",\n",
    "    calc_aggregate([nDCG@10, RR(rel=2)@10], qrels, result[alpha].run)\n",
    ")"
   ]
  }
 ],
 "metadata": {
  "kernelspec": {
   "display_name": "retrieval",
   "language": "python",
   "name": "python3"
  },
  "language_info": {
   "codemirror_mode": {
    "name": "ipython",
    "version": 3
   },
   "file_extension": ".py",
   "mimetype": "text/x-python",
   "name": "python",
   "nbconvert_exporter": "python",
   "pygments_lexer": "ipython3",
   "version": "3.9.15"
  },
  "orig_nbformat": 4
 },
 "nbformat": 4,
 "nbformat_minor": 2
}
